{
 "cells": [
  {
   "cell_type": "markdown",
   "metadata": {},
   "source": [
    "# Card Abstraction Visualization\n",
    "Background: I first went through `abstraction_exploration.ipynb` to better understand how many clusters I should be using for K-Means clustering, concluding that 100 clusters per game stage was a good number using the elbow method.\n",
    "\n",
    "Using `abstraction.py`, I then randomly generated 100,000 hands per game stage (flop/turn/river), and then generated the clusters on this data using K-Means Clustering using the euclidean distance, which are found in the `data/clusters` folder. \n",
    "\n",
    "Now, in this notebook, I attempt to visualize the clusters generated."
   ]
  },
  {
   "cell_type": "code",
   "execution_count": 1,
   "metadata": {},
   "outputs": [],
   "source": [
    "import joblib\n",
    "from sklearn.cluster import KMeans\n",
    "import numpy as np\n",
    "import matplotlib.pyplot as plt"
   ]
  },
  {
   "cell_type": "markdown",
   "metadata": {},
   "source": [
    "# Flop Visualization"
   ]
  },
  {
   "cell_type": "code",
   "execution_count": 2,
   "metadata": {},
   "outputs": [],
   "source": [
    "flop_kmeans_centroids = joblib.load('../data/clusters/flop/1669110120_samples=100000_bins=5.npy')\n",
    "flop_raw_data = np.load('../data/raw/flop/1669110120_samples=100000_bins=5.npy')\n",
    "flop_cards = joblib.load('../data/raw/flop/1669110120_samples=100000_bins=5')"
   ]
  },
  {
   "cell_type": "code",
   "execution_count": 3,
   "metadata": {},
   "outputs": [],
   "source": [
    "# Convert histograms to EHS\n",
    "ehs_flop_raw_data = (flop_raw_data * np.array([0.1, 0.3, 0.5, 0.7, 0.9])).sum(axis=1)"
   ]
  },
  {
   "cell_type": "code",
   "execution_count": 4,
   "metadata": {},
   "outputs": [
    {
     "data": {
      "text/plain": [
       "array([51, 62, 19, ..., 63, 24, 29], dtype=int32)"
      ]
     },
     "execution_count": 4,
     "metadata": {},
     "output_type": "execute_result"
    }
   ],
   "source": [
    "assert(flop_kmeans_centroids.shape[0] == 100) # This should be 100\n",
    "kmeans = KMeans(flop_kmeans_centroids.shape[0])\n",
    "kmeans.cluster_centers_ = flop_kmeans_centroids\n",
    "kmeans._n_threads = -1\n",
    "\n",
    "flop_raw_data_classes = kmeans.predict(flop_raw_data)\n",
    "flop_raw_data_classes"
   ]
  },
  {
   "cell_type": "code",
   "execution_count": 5,
   "metadata": {},
   "outputs": [
    {
     "data": {
      "text/plain": [
       "(100, 5)"
      ]
     },
     "execution_count": 5,
     "metadata": {},
     "output_type": "execute_result"
    }
   ],
   "source": [
    "flop_kmeans_centroids.shape"
   ]
  },
  {
   "cell_type": "markdown",
   "metadata": {},
   "source": [
    "The raw data is 5 dimensional, so we first run PCA to reduce this data down to 3 dimensions."
   ]
  },
  {
   "cell_type": "code",
   "execution_count": 6,
   "metadata": {},
   "outputs": [],
   "source": [
    "from sklearn.decomposition import PCA\n",
    "import plotly.express as px\n",
    "import plotly.graph_objects as go\n",
    "import pandas as pd"
   ]
  },
  {
   "cell_type": "code",
   "execution_count": 7,
   "metadata": {},
   "outputs": [],
   "source": [
    "pca_3d = PCA(n_components=3) # 3D vizualization"
   ]
  },
  {
   "cell_type": "code",
   "execution_count": 8,
   "metadata": {},
   "outputs": [],
   "source": [
    "PCs_3d = pca_3d.fit_transform(flop_raw_data)\n",
    "PCs_3d_centroids = pca_3d.fit_transform(flop_kmeans_centroids)"
   ]
  },
  {
   "cell_type": "code",
   "execution_count": 9,
   "metadata": {},
   "outputs": [],
   "source": [
    "df = pd.DataFrame(PCs_3d, columns=['dim1', 'dim2', 'dim3'])\n",
    "df_centoids = pd.DataFrame(PCs_3d_centroids, columns=['dim1', 'dim2', 'dim3'])\n"
   ]
  },
  {
   "cell_type": "code",
   "execution_count": 10,
   "metadata": {},
   "outputs": [
    {
     "data": {
      "text/plain": [
       "[\"Player Cards: ['Kh', 'Kd'], Community Cards: ['6d', '8h', '9s'], Class: 51, EHS: 0.75\",\n",
       " \"Player Cards: ['8s', 'Kh'], Community Cards: ['5s', '4d', '5c'], Class: 62, EHS: 0.48\",\n",
       " \"Player Cards: ['Jh', '2c'], Community Cards: ['Js', 'Kh', '7s'], Class: 19, EHS: 0.71\",\n",
       " \"Player Cards: ['8c', '7s'], Community Cards: ['3d', '3c', 'Ah'], Class: 75, EHS: 0.25\",\n",
       " \"Player Cards: ['8s', 'Tc'], Community Cards: ['Ad', 'Th', 'Ah'], Class: 28, EHS: 0.74\"]"
      ]
     },
     "execution_count": 10,
     "metadata": {},
     "output_type": "execute_result"
    }
   ],
   "source": [
    "marker_text = []\n",
    "for i, card_string in enumerate(flop_cards):\n",
    "\tcards = card_string.split(' ')\n",
    "\tassert(len(cards) == 5)\n",
    "\tmarker_text.append(f'Player Cards: {cards[:2]}, Community Cards: {cards[2:]}, Class: {flop_raw_data_classes[i]}, EHS: {ehs_flop_raw_data[i]:.2f}')\n",
    "marker_text[:5]"
   ]
  },
  {
   "cell_type": "code",
   "execution_count": 11,
   "metadata": {},
   "outputs": [
    {
     "data": {
      "text/plain": [
       "' TODO:\\n- Add Title\\n- Animate rotation https://community.plotly.com/t/how-to-animate-a-rotation-of-a-3d-plot/20974\\n'"
      ]
     },
     "execution_count": 11,
     "metadata": {},
     "output_type": "execute_result"
    }
   ],
   "source": [
    "\"\"\" TODO:\n",
    "- Add Title\n",
    "- Animate rotation https://community.plotly.com/t/how-to-animate-a-rotation-of-a-3d-plot/20974\n",
    "\"\"\""
   ]
  },
  {
   "cell_type": "code",
   "execution_count": 12,
   "metadata": {},
   "outputs": [],
   "source": [
    "fig = go.Figure()\n",
    "fig.add_trace(go.Scatter3d(x=PCs_3d[:, 0], y=PCs_3d[:,1], z=PCs_3d[:,2],\n",
    "                        hovertemplate='<b>%{text}</b><extra></extra>',\n",
    "                        text=marker_text,\n",
    "                        marker=dict(\n",
    "                            size=2,\n",
    "                            color=flop_raw_data_classes\n",
    "                        ),\n",
    "                        mode='markers',\n",
    "))\n",
    "fig.update_layout(title=dict(text=f\"Flop Abstraction ({flop_kmeans_centroids.shape[0]} Clusters)\", font=dict(size=28)), title_x=0.5, scene=dict(\n",
    "                  xaxis_title=\"Dimension 1\",\n",
    "                  yaxis_title=\"Dimension 2\",\n",
    "                  zaxis_title=\"Dimension 3\")\n",
    ")\n",
    "# fig.show()\n",
    "fig.show(renderer='browser')"
   ]
  },
  {
   "cell_type": "markdown",
   "metadata": {},
   "source": [
    "# Turn Visualization\n",
    "Same steps as for flop."
   ]
  },
  {
   "cell_type": "code",
   "execution_count": 39,
   "metadata": {},
   "outputs": [],
   "source": [
    "kmeans_centroids = joblib.load('../data/clusters/turn/1669110257_samples=100000_bins=5.npy')\n",
    "raw_data = np.load('../data/raw/turn/1669110257_samples=100000_bins=5.npy')\n",
    "cards = joblib.load('../data/raw/turn/1669110257_samples=100000_bins=5')\n",
    "\n",
    "# Convert histograms to EHS\n",
    "ehs_raw_data = (raw_data * np.array([0.1, 0.3, 0.5, 0.7, 0.9])).sum(axis=1)\n",
    "\n",
    "assert(kmeans_centroids.shape[0] == 100) # This should be 100\n",
    "kmeans = KMeans(kmeans_centroids.shape[0])\n",
    "kmeans.cluster_centers_ = kmeans_centroids\n",
    "kmeans._n_threads = -1\n",
    "\n",
    "raw_data_classes = kmeans.predict(raw_data)\n",
    "\n",
    "pca_3d = PCA(n_components=3) # 3D vizualization\n",
    "PCs_3d = pca_3d.fit_transform(raw_data)\n",
    "PCs_3d_centroids = pca_3d.fit_transform(kmeans_centroids)\n",
    "\n",
    "df = pd.DataFrame(PCs_3d, columns=['dim1', 'dim2', 'dim3'])\n",
    "df_centoids = pd.DataFrame(PCs_3d_centroids, columns=['dim1', 'dim2', 'dim3'])\n",
    "\n",
    "marker_text = []\n",
    "for i, card_string in enumerate(cards):\n",
    "\tcards = card_string.split(' ')\n",
    "\tassert(len(cards) == 6)\n",
    "\tmarker_text.append(f'Player Cards: {cards[:2]}, Community Cards: {cards[2:]}, Class: {raw_data_classes[i]}, EHS: {ehs_raw_data[i]:.2f}')\n",
    "\n",
    "# # https://stackoverflow.com/questions/61227248/plotly-how-to-create-custom-hover-labels-for-plotly-3d-scatter-figures\n",
    "fig = go.Figure()\n",
    "fig.add_trace(go.Scatter3d(x=PCs_3d[:, 0], y=PCs_3d[:,1], z=PCs_3d[:,2],\n",
    "                        hovertemplate='<b>%{text}</b><extra></extra>',\n",
    "                        text=marker_text,\n",
    "                        marker=dict(\n",
    "                            size=2,\n",
    "                            color=raw_data_classes\n",
    "                        ),\n",
    "                        mode='markers'\n",
    "))\n",
    "\n",
    "fig.update_layout(title=dict(text=f\"Turn Abstraction ({kmeans_centroids.shape[0]} Clusters)\", font=dict(size=28)), title_x=0.5, scene=dict(\n",
    "                  xaxis_title=\"Dimension 1\",\n",
    "                  yaxis_title=\"Dimension 2\",\n",
    "                  zaxis_title=\"Dimension 3\")\n",
    ")\n",
    "# fig.show()\n",
    "fig.show(renderer='browser')"
   ]
  },
  {
   "cell_type": "markdown",
   "metadata": {},
   "source": [
    "# River Visualization"
   ]
  },
  {
   "cell_type": "code",
   "execution_count": 38,
   "metadata": {},
   "outputs": [],
   "source": [
    "kmeans_centroids = joblib.load('../data/clusters/river/1669110228_samples=100000_bins=5.npy')\n",
    "raw_data = np.load('../data/raw/river/1669110228_samples=100000_bins=5.npy')\n",
    "cards = joblib.load('../data/raw/river/1669110228_samples=100000_bins=5')\n",
    "\n",
    "# Convert histograms to EHS\n",
    "ehs_raw_data = (raw_data * np.array([0.1, 0.3, 0.5, 0.7, 0.9])).sum(axis=1)\n",
    "\n",
    "assert(kmeans_centroids.shape[0] == 100) # This should be 100\n",
    "kmeans = KMeans(kmeans_centroids.shape[0])\n",
    "kmeans.cluster_centers_ = kmeans_centroids\n",
    "kmeans._n_threads = -1\n",
    "\n",
    "raw_data_classes = kmeans.predict(raw_data)\n",
    "\n",
    "pca_3d = PCA(n_components=3) # 3D vizualization\n",
    "PCs_3d = pca_3d.fit_transform(raw_data)\n",
    "PCs_3d_centroids = pca_3d.fit_transform(kmeans_centroids)\n",
    "\n",
    "df = pd.DataFrame(PCs_3d, columns=['dim1', 'dim2', 'dim3'])\n",
    "df_centoids = pd.DataFrame(PCs_3d_centroids, columns=['dim1', 'dim2', 'dim3'])\n",
    "\n",
    "marker_text = []\n",
    "for i, card_string in enumerate(cards):\n",
    "\tcards = card_string.split(' ')\n",
    "\tassert(len(cards) == 7)\n",
    "\tmarker_text.append(f'Player Cards: {cards[:2]}, Community Cards: {cards[2:]}, Class: {raw_data_classes[i]}, EHS: {ehs_raw_data[i]:.2f}')\n",
    "\n",
    "# # https://stackoverflow.com/questions/61227248/plotly-how-to-create-custom-hover-labels-for-plotly-3d-scatter-figures\n",
    "fig = go.Figure()\n",
    "fig.add_trace(go.Scatter3d(x=PCs_3d[:, 0], y=PCs_3d[:,1], z=PCs_3d[:,2],\n",
    "                        hovertemplate='<b>%{text}</b><extra></extra>',\n",
    "                        text=marker_text,\n",
    "                        marker=dict(\n",
    "                            size=2,\n",
    "                            color=raw_data_classes\n",
    "                        ),\n",
    "                        mode='markers'\n",
    "))\n",
    "\n",
    "fig.update_layout(title=dict(text=f\"River Abstraction ({kmeans_centroids.shape[0]} Clusters)\", font=dict(size=28)), title_x=0.5, scene=dict(\n",
    "                  xaxis_title=\"Dimension 1\",\n",
    "                  yaxis_title=\"Dimension 2\",\n",
    "                  zaxis_title=\"Dimension 3\")\n",
    ")\n",
    "# fig.show()\n",
    "\n",
    "fig.show(renderer='browser')"
   ]
  },
  {
   "cell_type": "code",
   "execution_count": null,
   "metadata": {},
   "outputs": [],
   "source": []
  }
 ],
 "metadata": {
  "kernelspec": {
   "display_name": "Python 3.10.8 64-bit",
   "language": "python",
   "name": "python3"
  },
  "language_info": {
   "codemirror_mode": {
    "name": "ipython",
    "version": 3
   },
   "file_extension": ".py",
   "mimetype": "text/x-python",
   "name": "python",
   "nbconvert_exporter": "python",
   "pygments_lexer": "ipython3",
   "version": "3.10.8 (main, Oct 13 2022, 09:48:40) [Clang 14.0.0 (clang-1400.0.29.102)]"
  },
  "orig_nbformat": 4,
  "vscode": {
   "interpreter": {
    "hash": "b0fa6594d8f4cbf19f97940f81e996739fb7646882a419484c72d19e05852a7e"
   }
  }
 },
 "nbformat": 4,
 "nbformat_minor": 2
}
